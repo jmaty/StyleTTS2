{
 "cells": [
  {
   "cell_type": "code",
   "execution_count": null,
   "id": "60f10b0d-00a9-4de5-9619-7996983d5f12",
   "metadata": {},
   "outputs": [],
   "source": [
    "import csv\n",
    "import os\n",
    "import librosa\n",
    "import numpy as np\n",
    "import unicodedata\n",
    "from collections import defaultdict"
   ]
  },
  {
   "cell_type": "code",
   "execution_count": null,
   "id": "e40fd625",
   "metadata": {},
   "outputs": [],
   "source": [
    "INP_CSV = '../Data/Karolina.pl.f/all.phn.csv'  # cesta k vstupnímu CSV souboru\n",
    "\n",
    "# phone_string = \"ɑɐɒæɓʙβɔɕçɗɖðʤəɘɚɛɜɝɞɟʄɡɠɢʛɦɧħɥʜɨɪʝɭɬɫɮʟɱɯɰŋɳɲɴøɵɸθœɶʘɹɺɾɻʀʁɽʂʃʈʧʉʊʋⱱʌɣɤʍχʎʏʑʐʒʔʡʕʢǀǁǂǃˈˌːˑʼʴʰʱʲʷˠˤ˞↓↑→↗↘'̩'ᵻ\"\n",
    "# letters = 'ABCDEFGHIJKLMNOPQRSTUVWXYZabcdefghijklmnopqrstuvwxyz'\n",
    "# punctuation = ';:,.!?¡¿—…\"«»“” '\n",
    "\n",
    "# symbols = list(phone_string) + list(letters) + list(punctuation)"
   ]
  },
  {
   "cell_type": "code",
   "execution_count": null,
   "id": "84d3ebee",
   "metadata": {},
   "outputs": [],
   "source": [
    "punctuation =  [\n",
    "      ';', ':', ',', '.', '!', '?', '¡', '¿', '—', '…', '\"', '«', '»', '“', '”', ' ',\n",
    "]\n",
    "letters = [\n",
    "      'A', 'B', 'C', 'D', 'E', 'F', 'G', 'H', 'I', 'J', 'K', 'L', 'M', 'N', 'O', 'P', 'Q',\n",
    "      'R', 'S', 'T', 'U', 'V', 'W', 'X', 'Y', 'Z', 'a', 'b', 'c', 'd', 'e', 'f', 'g', 'h',\n",
    "      'i', 'j', 'k', 'l', 'm', 'n', 'o', 'p', 'q', 'r', 's', 't', 'u', 'v', 'w', 'x', 'y', 'z',\n",
    "]\n",
    "ipa_phones = [\n",
    "      'ɑ', 'ɐ', 'ɒ', 'æ', 'ɓ', 'ʙ', 'β', 'ɔ', 'ɕ', 'ç', 'ɗ', 'ɖ', 'ð', 'ʤ', 'ə', 'ɘ', 'ɚ', \n",
    "      'ɛ', 'ɜ', 'ɝ', 'ɞ', 'ɟ', 'ʄ', 'ɡ', 'ɠ', 'ɢ', 'ʛ', 'ɦ', 'ɧ', 'ħ', 'ɥ', 'ʜ', 'ɨ', 'ɪ', \n",
    "      'ʝ', 'ɭ', 'ɬ', 'ɫ', 'ɮ', 'ʟ', 'ɱ', 'ɯ', 'ɰ', 'ŋ', 'ɳ', 'ɲ', 'ɴ', 'ø', 'ɵ', 'ɸ', 'θ', \n",
    "      'œ', 'ɶ', 'ʘ', 'ɹ', 'ɺ', 'ɾ', 'ɻ', 'ʀ', 'ʁ', 'ɽ', 'ʂ', 'ʃ', 'ʈ', 'ʧ', 'ʉ', 'ʊ', 'ʋ', \n",
    "      'ⱱ', 'ʌ', 'ɣ', 'ɤ', 'ʍ', 'χ', 'ʎ', 'ʏ', 'ʑ', 'ʐ', 'ʒ', 'ʔ', 'ʡ', 'ʕ', 'ʢ', 'ǀ', 'ǁ', \n",
    "      'ǂ', 'ǃ', 'ˈ', 'ˌ', 'ː', 'ˑ', 'ʼ', 'ʴ', 'ʰ', 'ʱ', 'ʲ', 'ʷ', 'ˠ', 'ˤ', '˞', '↓', '↑', \n",
    "      '→', '↗', '↘', \"'\", '̩', \"'\", 'ᵻ'\n",
    "]"
   ]
  },
  {
   "cell_type": "code",
   "execution_count": null,
   "id": "13fcd08b",
   "metadata": {},
   "outputs": [],
   "source": [
    "def init_freq_dict(symbols):\n",
    "    freq_dict = {}\n",
    "    for s in symbols:\n",
    "        freq_dict[s] = 0\n",
    "    return freq_dict"
   ]
  },
  {
   "cell_type": "code",
   "execution_count": null,
   "id": "6fb3722c",
   "metadata": {},
   "outputs": [],
   "source": [
    "punctuation_freq = init_freq_dict(punctuation)\n",
    "letters_freq = init_freq_dict(letters)\n",
    "ipa_phones_freq = init_freq_dict(ipa_phones)\n",
    "unsupported = defaultdict(int)\n",
    "unsupported_examples = {}\n",
    "\n",
    "# Go through CSV file\n",
    "with open(INP_CSV, newline='', encoding='utf-8') as ifile:\n",
    "    reader = csv.reader(ifile, delimiter='|')\n",
    "\n",
    "    # Read current line\n",
    "    for idx, row in enumerate(reader):\n",
    "        assert len(row) in (2, 3), f\"Row {idx} must contain 2 or 3 items!\"\n",
    "        text = row[1] if len(row) == 3 else row[0]\n",
    "        text = text.strip()\n",
    "\n",
    "        # Convert string to list of characters\n",
    "        chars = []\n",
    "        for char in text:\n",
    "            # Check \"combining\" character\n",
    "            if unicodedata.combining(char):\n",
    "                chars[-1] += char\n",
    "            else:\n",
    "                chars.append(char)\n",
    "\n",
    "        # Look for individual characters\n",
    "        for char in chars:\n",
    "            if char in punctuation_freq:\n",
    "                punctuation_freq[char] += 1\n",
    "            elif char in letters_freq:\n",
    "                letters_freq[char] += 1\n",
    "            elif char in ipa_phones_freq:\n",
    "                ipa_phones_freq[char] += 1\n",
    "            else:\n",
    "                unsupported[char] += 1\n",
    "                unsupported_examples[char] = text\n",
    "\n",
    "print('Punctuation:')\n",
    "for char in punctuation_freq.keys():\n",
    "    print(f'{char}\\t{punctuation_freq[char]}')\n",
    "print()\n",
    "print('Letters:')\n",
    "for char in letters_freq.keys():\n",
    "    print(f'{char}\\t{letters_freq[char]}')\n",
    "print()\n",
    "print('IPA phones:')\n",
    "for char in ipa_phones_freq.keys():\n",
    "    print(f'{char}\\t{ipa_phones_freq[char]}')\n",
    "print()\n",
    "print('Unsupported:')\n",
    "for char in unsupported.keys():\n",
    "    print(f'\\n{char}\\t{unsupported[char]}\\n{unsupported_examples[char]}')"
   ]
  }
 ],
 "metadata": {
  "kernelspec": {
   "display_name": "Python 3 (ipykernel)",
   "language": "python",
   "name": "python3"
  },
  "language_info": {
   "codemirror_mode": {
    "name": "ipython",
    "version": 3
   },
   "file_extension": ".py",
   "mimetype": "text/x-python",
   "name": "python",
   "nbconvert_exporter": "python",
   "pygments_lexer": "ipython3",
   "version": "3.10.12"
  }
 },
 "nbformat": 4,
 "nbformat_minor": 5
}
