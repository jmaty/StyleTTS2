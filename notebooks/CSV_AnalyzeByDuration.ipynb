{
 "cells": [
  {
   "cell_type": "code",
   "execution_count": null,
   "id": "60f10b0d-00a9-4de5-9619-7996983d5f12",
   "metadata": {},
   "outputs": [],
   "source": [
    "import csv\n",
    "import os\n",
    "import librosa\n",
    "import numpy as np\n",
    "import matplotlib.pyplot as plt"
   ]
  },
  {
   "cell_type": "code",
   "execution_count": null,
   "id": "e40fd625",
   "metadata": {},
   "outputs": [],
   "source": [
    "CSV_PATH = '../Data/Karolina.pl.f/train2-10s6500.csv'  # cesta k vstupnímu CSV souboru\n",
    "AUDIO_DIR = '../Data/Karolina.pl.f/wavs'  # cesta k adresáři se zvukovými soubory"
   ]
  },
  {
   "cell_type": "code",
   "execution_count": null,
   "id": "ff0a8962-c481-42ec-993e-507a910f9236",
   "metadata": {},
   "outputs": [],
   "source": [
    "# Funkce pro převod délky z sekund na formát hh:mm:ss\n",
    "def format_time(seconds):\n",
    "    hours = int(seconds // 3600)\n",
    "    minutes = int((seconds % 3600) // 60)\n",
    "    seconds = int(seconds % 60)\n",
    "    return f\"{hours:02}:{minutes:02}:{seconds:02}\"\n",
    "\n",
    "# Funkce na získání délky zvukového souboru v sekundách pomocí librosa\n",
    "def get_audio_length(file_path):\n",
    "    y, sr = librosa.load(file_path, sr=None)  # Načtení zvuku s původní vzorkovací frekvencí\n",
    "    duration = librosa.get_duration(y=y, sr=sr)\n",
    "    return duration\n",
    "\n",
    "# Funkce pro filtrování řádků podle délky zvukového souboru a výpočet celkových délek\n",
    "def analyze_audio_files(csv_path, audio_directory):\n",
    "    tot_len = 0  # Celková délka všech původních zvukových souborů\n",
    "    files = []  # Seznam vstupních souborů s délkou\n",
    "\n",
    "    with open(csv_path, newline='', encoding='utf-8') as infile:\n",
    "        reader = csv.reader(infile, delimiter='|')\n",
    "\n",
    "        for row in reader:\n",
    "            fname = row[0]  # Název souboru je první položka v řádce\n",
    "\n",
    "            # Přidání přípony .wav, pokud tam není\n",
    "            if not fname.lower().endswith('.wav'):\n",
    "                fname += '.wav'\n",
    "            \n",
    "            audio_file_path = os.path.join(audio_directory, fname)\n",
    "            \n",
    "            try:\n",
    "                length = get_audio_length(audio_file_path)\n",
    "                tot_len += length  # Přičti k celkové délce původních souborů\n",
    "                files.append((fname, length))  # Přidej soubor a jeho délku do seznamu\n",
    "            except FileNotFoundError:\n",
    "                print(f'[!] {audio_file_path} does not exist')\n",
    "    \n",
    "    return tot_len, files"
   ]
  },
  {
   "cell_type": "code",
   "execution_count": null,
   "id": "ceaa637b-245a-44c4-9a1d-1676e59753b7",
   "metadata": {},
   "outputs": [],
   "source": [
    "# Analýza audio souborů\n",
    "tot_len, files = analyze_audio_files(CSV_PATH, AUDIO_DIR)\n",
    "\n",
    "# Výpočty statistik\n",
    "input_lengths = [length for _, length in files]\n",
    "avg_input_length = np.mean(input_lengths) if input_lengths else 0\n",
    "median_input_length = np.median(input_lengths) if input_lengths else 0\n",
    "\n",
    "print(f\"Celkový počet audiosouborů:  {len(files)}\")\n",
    "print(f\"Celková délka audiosouborů:  {format_time(tot_len)}\")\n",
    "print(f\"Průměrná délka audiosouborů: {avg_input_length:.2f}\")\n",
    "print(f\"Medián délky audiosouborů:  {median_input_length:.2f}\")"
   ]
  },
  {
   "cell_type": "code",
   "execution_count": null,
   "id": "69400f68-9035-4c5a-aa44-8a7367779702",
   "metadata": {},
   "outputs": [],
   "source": [
    "# Vytvoření histogramu délek výstupních souborů\n",
    "if input_lengths:\n",
    "    plt.hist(input_lengths, bins=100, edgecolor='black')\n",
    "    plt.title('Histogram délek audio souborů')\n",
    "    plt.xlabel('Délka (v sekundách)')\n",
    "    plt.ylabel('Počet souborů')\n",
    "    plt.show()"
   ]
  }
 ],
 "metadata": {
  "kernelspec": {
   "display_name": "Python 3 (ipykernel)",
   "language": "python",
   "name": "python3"
  },
  "language_info": {
   "codemirror_mode": {
    "name": "ipython",
    "version": 3
   },
   "file_extension": ".py",
   "mimetype": "text/x-python",
   "name": "python",
   "nbconvert_exporter": "python",
   "pygments_lexer": "ipython3",
   "version": "3.10.12"
  }
 },
 "nbformat": 4,
 "nbformat_minor": 5
}
