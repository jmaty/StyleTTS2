{
 "cells": [
  {
   "cell_type": "code",
   "execution_count": 1,
   "id": "60f10b0d-00a9-4de5-9619-7996983d5f12",
   "metadata": {},
   "outputs": [],
   "source": [
    "import csv\n",
    "import os\n",
    "import librosa\n",
    "import numpy as np\n",
    "import matplotlib.pyplot as plt"
   ]
  },
  {
   "cell_type": "code",
   "execution_count": 2,
   "id": "e40fd625",
   "metadata": {},
   "outputs": [],
   "source": [
    "INP_CSV = '../Data/BarEm/val5s.csv'  # cesta k vstupnímu CSV souboru\n",
    "OUT_CSV = '../Data/BarEm/val5s$.csv'  # cesta k vstupnímu CSV souboru\n",
    "STOP_SYMBOL = '$'"
   ]
  },
  {
   "cell_type": "code",
   "execution_count": 3,
   "id": "ff0a8962-c481-42ec-993e-507a910f9236",
   "metadata": {},
   "outputs": [],
   "source": [
    "def add_stop_symbol(inp_csv, stop_symbol, out_csv):\n",
    "    with open(inp_csv, newline='', encoding='utf-8') as ifile, open(out_csv, 'w', newline='', encoding='utf-8') as ofile:\n",
    "        reader = csv.reader(ifile, delimiter='|')\n",
    "        writer = csv.writer(ofile, delimiter='|')\n",
    "\n",
    "        for idx, row in enumerate(reader):\n",
    "            assert len(row) == 3, f\"Row {idx} must contain 3 items!\"\n",
    "\n",
    "            row[1] = f\"{stop_symbol} {row[1]} {stop_symbol}\"\n",
    "            writer.writerow(row)"
   ]
  },
  {
   "cell_type": "code",
   "execution_count": 4,
   "id": "ceaa637b-245a-44c4-9a1d-1676e59753b7",
   "metadata": {},
   "outputs": [],
   "source": [
    "add_stop_symbol(INP_CSV, STOP_SYMBOL, OUT_CSV)"
   ]
  }
 ],
 "metadata": {
  "kernelspec": {
   "display_name": "Python 3 (ipykernel)",
   "language": "python",
   "name": "python3"
  },
  "language_info": {
   "codemirror_mode": {
    "name": "ipython",
    "version": 3
   },
   "file_extension": ".py",
   "mimetype": "text/x-python",
   "name": "python",
   "nbconvert_exporter": "python",
   "pygments_lexer": "ipython3",
   "version": "3.10.12"
  }
 },
 "nbformat": 4,
 "nbformat_minor": 5
}
