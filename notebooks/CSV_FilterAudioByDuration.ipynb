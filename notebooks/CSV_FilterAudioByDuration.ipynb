{
 "cells": [
  {
   "cell_type": "code",
   "execution_count": 34,
   "id": "60f10b0d-00a9-4de5-9619-7996983d5f12",
   "metadata": {},
   "outputs": [],
   "source": [
    "import csv\n",
    "import os\n",
    "import librosa\n",
    "import numpy as np\n",
    "import matplotlib.pyplot as plt"
   ]
  },
  {
   "cell_type": "code",
   "execution_count": 35,
   "id": "ff0a8962-c481-42ec-993e-507a910f9236",
   "metadata": {},
   "outputs": [],
   "source": [
    "# Funkce pro převod délky z sekund na formát hh:mm:ss\n",
    "def format_time(seconds):\n",
    "    hours = int(seconds // 3600)\n",
    "    minutes = int((seconds % 3600) // 60)\n",
    "    seconds = int(seconds % 60)\n",
    "    return f\"{hours:02}:{minutes:02}:{seconds:02}\"\n",
    "\n",
    "# Funkce na získání délky zvukového souboru v sekundách pomocí librosa\n",
    "def get_audio_length(file_path):\n",
    "    y, sr = librosa.load(file_path, sr=None)  # Načtení zvuku s původní vzorkovací frekvencí\n",
    "    duration = librosa.get_duration(y=y, sr=sr)\n",
    "    return duration\n",
    "\n",
    "# Funkce pro filtrování řádků podle délky zvukového souboru a výpočet celkových délek\n",
    "def filter_audio_files(input_csv, audio_directory, max_length, output_csv):\n",
    "    total_original_length = 0  # Celková délka všech původních zvukových souborů\n",
    "    total_output_length = 0  # Celková délka zvukových souborů ve výstupu\n",
    "    input_files = []  # Seznam vstupních souborů s délkou\n",
    "    output_files = []  # Seznam výstupních souborů s délkou\n",
    "\n",
    "    with open(input_csv, encoding='utf-8') as infile, open(output_csv, 'w', encoding='utf-8') as outfile:\n",
    "        reader = csv.reader(infile, delimiter='|')\n",
    "        writer = csv.writer(outfile, delimiter='|', lineterminator='\\n')\n",
    "        \n",
    "        # Zapsání hlavičky, pokud existuje\n",
    "        headers = next(reader, None)\n",
    "        if headers:\n",
    "            writer.writerow(headers)\n",
    "\n",
    "        for row in reader:\n",
    "            file_name = row[0]  # Název souboru je první položka v řádce\n",
    "\n",
    "            # Přidání přípony .wav, pokud tam není\n",
    "            if not file_name.lower().endswith('.wav'):\n",
    "                file_name += '.wav'\n",
    "            \n",
    "            audio_file_path = os.path.join(audio_directory, file_name)\n",
    "            \n",
    "            # Pokud zvukový soubor existuje, zjisti jeho délku\n",
    "            if os.path.isfile(audio_file_path):\n",
    "                length = get_audio_length(audio_file_path)\n",
    "                total_original_length += length  # Přičti k celkové délce původních souborů\n",
    "                input_files.append((file_name, length))  # Přidej soubor a jeho délku do seznamu\n",
    "\n",
    "                # Pokud délka je menší než zadaná hodnota, zapiš řádek do výstupního souboru\n",
    "                if length < max_length:\n",
    "                    writer.writerow(row)\n",
    "                    output_files.append((file_name, length))  # Přidej soubor do seznamu výstupních souborů\n",
    "                    total_output_length += length  # Přičti k celkové délce výstupních souborů\n",
    "    return total_original_length, total_output_length, input_files, output_files"
   ]
  },
  {
   "cell_type": "code",
   "execution_count": 36,
   "id": "497b5580-208f-42d6-b69d-edccb60cdf6a",
   "metadata": {},
   "outputs": [],
   "source": [
    "# Nastavení\n",
    "input_csv = '../Data/DailyTalk0.en/train.phn.csv'  # cesta k vstupnímu CSV souboru\n",
    "audio_directory = '../Data/DailyTalk0.en/wavs'  # cesta k adresáři se zvukovými soubory\n",
    "max_length = 5  # maximální povolená délka zvukového souboru v sekundách\n",
    "output_csv = f'../Data/DailyTalk0.en/train{max_length}s.phn.csv'  # cesta k výstupnímu CSV souboru\n",
    "\n",
    "total_original_length, total_output_length, input_files, output_files = filter_audio_files(\n",
    "    input_csv,\n",
    "    audio_directory,\n",
    "    max_length,\n",
    "    output_csv\n",
    ")"
   ]
  },
  {
   "cell_type": "code",
   "execution_count": null,
   "id": "ceaa637b-245a-44c4-9a1d-1676e59753b7",
   "metadata": {},
   "outputs": [],
   "source": [
    "# Výpočty průměrné délky a mediánu\n",
    "input_lengths = [length for _, length in input_files]\n",
    "output_lengths = [length for _, length in output_files]\n",
    "\n",
    "avg_input_length = np.mean(input_lengths) if input_lengths else 0\n",
    "median_input_length = np.median(input_lengths) if input_lengths else 0\n",
    "\n",
    "avg_output_length = np.mean(output_lengths) if output_lengths else 0\n",
    "median_output_length = np.median(output_lengths) if output_lengths else 0\n",
    "\n",
    "print(f\"Celkový počet vstupních audiosouborů: {len(input_files)}\")\n",
    "print(f\"Celková délka vstupních audiosouborů: {format_time(total_original_length)}\")\n",
    "print(f\"Průměrná délka vstupních audiosouborů: {avg_input_length:.2f}\")\n",
    "print(f\"Medián délky vstupních audiosouborů: {median_input_length:.2f}\")\n",
    "\n",
    "print(f\"\\nCelkový počet výstupních audiosouborů: {len(output_files)}\")\n",
    "print(f\"Celková délka výstupních audiosouborů: {format_time(total_output_length)}\")\n",
    "print(f\"Průměrná délka výstupních audiosouborů: {avg_output_length:.2f}\")\n",
    "print(f\"Medián délky výstupních audiosouborů: {median_output_length:.2f}\")"
   ]
  },
  {
   "cell_type": "code",
   "execution_count": null,
   "id": "69400f68-9035-4c5a-aa44-8a7367779702",
   "metadata": {},
   "outputs": [],
   "source": [
    "# Vytvoření histogramu délek výstupních souborů\n",
    "if input_lengths:\n",
    "    plt.hist(input_lengths, bins=100, edgecolor='black')\n",
    "    plt.title('Histogram délek vstupních audio souborů')\n",
    "    plt.xlabel('Délka (v sekundách)')\n",
    "    plt.ylabel('Počet souborů')\n",
    "    plt.show()"
   ]
  },
  {
   "cell_type": "code",
   "execution_count": null,
   "id": "1f06e3ad-4e9d-4562-989f-ec800265ea8c",
   "metadata": {},
   "outputs": [],
   "source": [
    "# Vytvoření histogramu délek výstupních souborů\n",
    "if output_lengths:\n",
    "    plt.hist(output_lengths, bins=100, edgecolor='black')\n",
    "    plt.title('Histogram délek výstupních audio souborů')\n",
    "    plt.xlabel('Délka (v sekundách)')\n",
    "    plt.ylabel('Počet souborů')\n",
    "    plt.show()"
   ]
  }
 ],
 "metadata": {
  "kernelspec": {
   "display_name": "Python 3 (ipykernel)",
   "language": "python",
   "name": "python3"
  },
  "language_info": {
   "codemirror_mode": {
    "name": "ipython",
    "version": 3
   },
   "file_extension": ".py",
   "mimetype": "text/x-python",
   "name": "python",
   "nbconvert_exporter": "python",
   "pygments_lexer": "ipython3",
   "version": "3.10.12"
  }
 },
 "nbformat": 4,
 "nbformat_minor": 5
}
