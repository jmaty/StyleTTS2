{
 "cells": [
  {
   "cell_type": "code",
   "execution_count": 1,
   "id": "c23f99da-b054-4f87-a212-cd48d3c2b7a3",
   "metadata": {},
   "outputs": [],
   "source": [
    "import phonemizer"
   ]
  },
  {
   "cell_type": "code",
   "execution_count": 15,
   "id": "593890aa-2e8c-41d8-9f5a-065083b5e2bd",
   "metadata": {},
   "outputs": [],
   "source": [
    "INP_CSV = 'all.ort.csv'\n",
    "OUT_CSV = 'all.phn.csv'"
   ]
  },
  {
   "cell_type": "code",
   "execution_count": 5,
   "id": "4d0b7439-cfa0-4fc0-873d-0d89cca3368b",
   "metadata": {},
   "outputs": [],
   "source": [
    "phn_obj = phonemizer.backend.EspeakBackend(language='en-us', preserve_punctuation=True,  with_stress=True)"
   ]
  },
  {
   "cell_type": "code",
   "execution_count": 16,
   "id": "8974b106-7c04-4901-9f6e-368bed10de7c",
   "metadata": {},
   "outputs": [],
   "source": [
    "with open(OUT_CSV, 'w') as fout:\n",
    "    with open(INP_CSV, 'r') as finp:\n",
    "        for line in finp:\n",
    "            uname, snt = line.strip().split('|')\n",
    "            phn_snt = phn_obj.phonemize([snt])[0].strip()\n",
    "            print(f'{uname}|{phn_snt}|0', file=fout)"
   ]
  }
 ],
 "metadata": {
  "kernelspec": {
   "display_name": "Python 3 (ipykernel)",
   "language": "python",
   "name": "python3"
  },
  "language_info": {
   "codemirror_mode": {
    "name": "ipython",
    "version": 3
   },
   "file_extension": ".py",
   "mimetype": "text/x-python",
   "name": "python",
   "nbconvert_exporter": "python",
   "pygments_lexer": "ipython3",
   "version": "3.10.12"
  }
 },
 "nbformat": 4,
 "nbformat_minor": 5
}
